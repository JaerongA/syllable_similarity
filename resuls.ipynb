{
 "cells": [
  {
   "cell_type": "markdown",
   "metadata": {},
   "source": [
    "## Load data"
   ]
  },
  {
   "cell_type": "code",
   "execution_count": 1,
   "metadata": {},
   "outputs": [],
   "source": [
    "from decimal import Decimal\n",
    "from IPython.display import display\n",
    "import numpy as np\n",
    "import matplotlib.pyplot as plt\n",
    "import matplotlib.gridspec as gridspec\n",
    "import matplotlib\n",
    "import seaborn as sns\n",
    "from scipy import stats\n",
    "from pathlib import Path\n",
    "import pandas as pd\n",
    "import warnings\n",
    "warnings.filterwarnings('ignore')\n",
    "matplotlib.rcParams['pdf.fonttype'] = 42\n",
    "matplotlib.rcParams['ps.fonttype'] = 42"
   ]
  },
  {
   "cell_type": "markdown",
   "metadata": {},
   "source": [
    "### x denotes unidentifiable syllable"
   ]
  },
  {
   "cell_type": "code",
   "execution_count": 25,
   "metadata": {},
   "outputs": [
    {
     "data": {
      "text/html": [
       "<div>\n",
       "<style scoped>\n",
       "    .dataframe tbody tr th:only-of-type {\n",
       "        vertical-align: middle;\n",
       "    }\n",
       "\n",
       "    .dataframe tbody tr th {\n",
       "        vertical-align: top;\n",
       "    }\n",
       "\n",
       "    .dataframe thead th {\n",
       "        text-align: right;\n",
       "    }\n",
       "</style>\n",
       "<table border=\"1\" class=\"dataframe\">\n",
       "  <thead>\n",
       "    <tr style=\"text-align: right;\">\n",
       "      <th></th>\n",
       "      <th>Index</th>\n",
       "      <th>BirdID</th>\n",
       "      <th>BasisNote</th>\n",
       "      <th>SimilarityMean</th>\n",
       "      <th>SimilaritySEM</th>\n",
       "    </tr>\n",
       "  </thead>\n",
       "  <tbody>\n",
       "    <tr>\n",
       "      <th>0</th>\n",
       "      <td>0</td>\n",
       "      <td>k71o7</td>\n",
       "      <td>i</td>\n",
       "      <td>0.481081</td>\n",
       "      <td>0.008860</td>\n",
       "    </tr>\n",
       "    <tr>\n",
       "      <th>1</th>\n",
       "      <td>1</td>\n",
       "      <td>k71o7</td>\n",
       "      <td>j</td>\n",
       "      <td>0.320781</td>\n",
       "      <td>0.008222</td>\n",
       "    </tr>\n",
       "    <tr>\n",
       "      <th>2</th>\n",
       "      <td>2</td>\n",
       "      <td>k71o7</td>\n",
       "      <td>a</td>\n",
       "      <td>0.337064</td>\n",
       "      <td>0.007050</td>\n",
       "    </tr>\n",
       "    <tr>\n",
       "      <th>3</th>\n",
       "      <td>3</td>\n",
       "      <td>k71o7</td>\n",
       "      <td>b</td>\n",
       "      <td>0.400558</td>\n",
       "      <td>0.007476</td>\n",
       "    </tr>\n",
       "    <tr>\n",
       "      <th>4</th>\n",
       "      <td>4</td>\n",
       "      <td>k71o7</td>\n",
       "      <td>c</td>\n",
       "      <td>0.278463</td>\n",
       "      <td>0.007031</td>\n",
       "    </tr>\n",
       "    <tr>\n",
       "      <th>5</th>\n",
       "      <td>5</td>\n",
       "      <td>k71o7</td>\n",
       "      <td>d</td>\n",
       "      <td>0.282416</td>\n",
       "      <td>0.005903</td>\n",
       "    </tr>\n",
       "    <tr>\n",
       "      <th>6</th>\n",
       "      <td>6</td>\n",
       "      <td>k71o7</td>\n",
       "      <td>z</td>\n",
       "      <td>0.250782</td>\n",
       "      <td>0.004217</td>\n",
       "    </tr>\n",
       "    <tr>\n",
       "      <th>7</th>\n",
       "      <td>7</td>\n",
       "      <td>y3y18</td>\n",
       "      <td>i</td>\n",
       "      <td>0.442882</td>\n",
       "      <td>0.005241</td>\n",
       "    </tr>\n",
       "    <tr>\n",
       "      <th>8</th>\n",
       "      <td>8</td>\n",
       "      <td>y3y18</td>\n",
       "      <td>j</td>\n",
       "      <td>0.451288</td>\n",
       "      <td>0.003714</td>\n",
       "    </tr>\n",
       "    <tr>\n",
       "      <th>9</th>\n",
       "      <td>9</td>\n",
       "      <td>y3y18</td>\n",
       "      <td>b</td>\n",
       "      <td>0.240031</td>\n",
       "      <td>0.003970</td>\n",
       "    </tr>\n",
       "  </tbody>\n",
       "</table>\n",
       "</div>"
      ],
      "text/plain": [
       "   Index BirdID BasisNote  SimilarityMean  SimilaritySEM\n",
       "0      0  k71o7         i        0.481081       0.008860\n",
       "1      1  k71o7         j        0.320781       0.008222\n",
       "2      2  k71o7         a        0.337064       0.007050\n",
       "3      3  k71o7         b        0.400558       0.007476\n",
       "4      4  k71o7         c        0.278463       0.007031\n",
       "5      5  k71o7         d        0.282416       0.005903\n",
       "6      6  k71o7         z        0.250782       0.004217\n",
       "7      7  y3y18         i        0.442882       0.005241\n",
       "8      8  y3y18         j        0.451288       0.003714\n",
       "9      9  y3y18         b        0.240031       0.003970"
      ]
     },
     "metadata": {},
     "output_type": "display_data"
    },
    {
     "data": {
      "text/html": [
       "<div>\n",
       "<style scoped>\n",
       "    .dataframe tbody tr th:only-of-type {\n",
       "        vertical-align: middle;\n",
       "    }\n",
       "\n",
       "    .dataframe tbody tr th {\n",
       "        vertical-align: top;\n",
       "    }\n",
       "\n",
       "    .dataframe thead th {\n",
       "        text-align: right;\n",
       "    }\n",
       "</style>\n",
       "<table border=\"1\" class=\"dataframe\">\n",
       "  <thead>\n",
       "    <tr style=\"text-align: right;\">\n",
       "      <th></th>\n",
       "      <th>BirdID</th>\n",
       "      <th>SimilarityMean</th>\n",
       "      <th>Condition</th>\n",
       "    </tr>\n",
       "  </thead>\n",
       "  <tbody>\n",
       "    <tr>\n",
       "      <th>0</th>\n",
       "      <td>b86g86</td>\n",
       "      <td>0.562635</td>\n",
       "      <td>BMI_x</td>\n",
       "    </tr>\n",
       "    <tr>\n",
       "      <th>1</th>\n",
       "      <td>k71o7</td>\n",
       "      <td>0.481081</td>\n",
       "      <td>BMI_x</td>\n",
       "    </tr>\n",
       "    <tr>\n",
       "      <th>2</th>\n",
       "      <td>k77r57</td>\n",
       "      <td>0.431825</td>\n",
       "      <td>BMI_x</td>\n",
       "    </tr>\n",
       "    <tr>\n",
       "      <th>3</th>\n",
       "      <td>o54w8</td>\n",
       "      <td>0.579386</td>\n",
       "      <td>BMI_x</td>\n",
       "    </tr>\n",
       "    <tr>\n",
       "      <th>4</th>\n",
       "      <td>y3y18</td>\n",
       "      <td>0.451288</td>\n",
       "      <td>BMI_x</td>\n",
       "    </tr>\n",
       "  </tbody>\n",
       "</table>\n",
       "</div>"
      ],
      "text/plain": [
       "   BirdID  SimilarityMean Condition\n",
       "0  b86g86        0.562635     BMI_x\n",
       "1   k71o7        0.481081     BMI_x\n",
       "2  k77r57        0.431825     BMI_x\n",
       "3   o54w8        0.579386     BMI_x\n",
       "4   y3y18        0.451288     BMI_x"
      ]
     },
     "metadata": {},
     "output_type": "display_data"
    }
   ],
   "source": [
    "data_path = Path('./data')\n",
    "csv_file = data_path / 'SimilarityIndex.csv'\n",
    "df = pd.read_csv(csv_file)\n",
    "df = df.loc[df['NoteX']==False]\n",
    "bird_list = list(df['BirdID'].unique())\n",
    "\n",
    "csv_file = data_path / 'NoteX.csv'\n",
    "df_x = pd.read_csv(csv_file)\n",
    "display(df_x.head(10))\n",
    "\n",
    "df_mean_x  = df_x.groupby(['BirdID'])['SimilarityMean'].max().to_frame()\n",
    "df_mean_x['Condition'] = 'BMI_x'\n",
    "df_mean_x.reset_index(inplace=True)\n",
    "display(df_mean_x)"
   ]
  },
  {
   "cell_type": "code",
   "execution_count": 3,
   "metadata": {},
   "outputs": [],
   "source": [
    "## Create multiple dataframes per bird\n",
    "df_g20r5  = df[df['BirdID'] == 'g20r5']\n",
    "df_y58y59  = df[df['BirdID'] == 'y58y59']\n",
    "df_k71o7 = df[df['BirdID'] == 'k71o7']\n",
    "df_y3y18   = df[df['BirdID'] == 'y3y18']\n",
    "df_o54w8  = df[df['BirdID'] == 'o54w8']\n",
    "df_k77r57 = df[df['BirdID'] == 'k77r57']\n",
    "df_b86g86  = df[df['BirdID'] == 'b86g86']"
   ]
  },
  {
   "cell_type": "markdown",
   "metadata": {},
   "source": [
    "### Compare syllable similarity across different conditions"
   ]
  },
  {
   "cell_type": "code",
   "execution_count": 4,
   "metadata": {},
   "outputs": [
    {
     "data": {
      "image/png": "[encoded data removed]",
      "text/plain": [
       "<Figure size 216x216 with 1 Axes>"
      ]
     },
     "metadata": {
      "needs_background": "light"
     },
     "output_type": "display_data"
    }
   ],
   "source": [
    "fig = plt.figure(figsize=(3,3))\n",
    "ax = sns.pointplot(x=\"Condition\", y=\"SimilarityMean\", hue = \"Note\", data = df_g20r5,\n",
    "                   size=8, jitter=0.1, order=[\"baseline\", \"BMI\"], edgecolor=\"black\", \n",
    "                   alpha =.9, linewidth = .5)\n",
    "ax.spines['right'].set_visible(False), ax.spines['top'].set_visible(False)\n",
    "ax.legend(loc='center left', bbox_to_anchor=(1, 0.5))\n",
    "ax.set_title('g20r5')\n",
    "ax.set_ylim([0.3, 1])\n",
    "plt.show()"
   ]
  },
  {
   "cell_type": "code",
   "execution_count": 5,
   "metadata": {
    "scrolled": true
   },
   "outputs": [
    {
     "data": {
      "image/png": "[encoded data removed]",
      "text/plain": [
       "<Figure size 720x216 with 2 Axes>"
      ]
     },
     "metadata": {
      "needs_background": "light"
     },
     "output_type": "display_data"
    }
   ],
   "source": [
    "birdID = 'k77r57'\n",
    "df_temp = df_x.loc[df_x['BirdID']==birdID]\n",
    "df_temp\n",
    "\n",
    "gs = gridspec.GridSpec(1, 7)\n",
    "\n",
    "fig = plt.figure(figsize=(10,3))\n",
    "\n",
    "ax = plt.subplot(gs[0,0:2])\n",
    "sns.pointplot(x=\"Condition\", y=\"SimilarityMean\", hue=\"Note\", \n",
    "                   data=df[df['BirdID'] == birdID], order=[\"baseline\", \"BMI\"])\n",
    "ax.spines['right'].set_visible(False), ax.spines['top'].set_visible(False)\n",
    "ax.legend(loc='center left', bbox_to_anchor=(1, 0.5))\n",
    "ax.set_title(birdID)\n",
    "ax.set_ylim([0.2, 0.7])\n",
    "\n",
    "ax_x = plt.subplot(gs[0,3:-1], sharey= ax)\n",
    "ax_x.errorbar(df_temp['BasisNote'], df_temp['SimilarityMean'], df_temp['SimilaritySEM'], fmt = 'o', color='k')\n",
    "ax_x.spines['right'].set_visible(False), ax_x.spines['top'].set_visible(False)\n",
    "ax_x.set_title(birdID)\n",
    "ax_x.set_xlabel('Basis Note')\n",
    "\n",
    "plt.show()"
   ]
  },
  {
   "cell_type": "code",
   "execution_count": 6,
   "metadata": {
    "scrolled": true
   },
   "outputs": [
    {
     "data": {
      "image/png": "[encoded data removed]",
      "text/plain": [
       "<Figure size 216x216 with 1 Axes>"
      ]
     },
     "metadata": {
      "needs_background": "light"
     },
     "output_type": "display_data"
    }
   ],
   "source": [
    "# Plot similarity index for 'x'\n",
    "fig = plt.figure(figsize=(3,3))\n",
    "plt.suptitle('Similarity Index')\n",
    "ax = plt.subplot(111)\n",
    "ax = sns.stripplot(x=\"Condition\", y=\"SimilarityMean\", hue = \"BirdID\", data = df,\n",
    "                   size=6, jitter=0.1, order=[\"baseline\", \"BMI\"], edgecolor=\"black\", \n",
    "                   alpha =.7, linewidth = .5)\n",
    "ax.spines['right'].set_visible(False), ax.spines['top'].set_visible(False)\n",
    "ax.set_ylabel('Similarity Index')\n",
    "ax.legend(loc='center left', bbox_to_anchor=(1, 0.5))\n",
    "plt.show()"
   ]
  },
  {
   "cell_type": "code",
   "execution_count": 11,
   "metadata": {},
   "outputs": [
    {
     "data": {
      "image/png": "[encoded data removed]",
      "text/plain": [
       "<Figure size 216x216 with 1 Axes>"
      ]
     },
     "metadata": {
      "needs_background": "light"
     },
     "output_type": "display_data"
    }
   ],
   "source": [
    "data_per_bird= df.groupby(['BirdID','Condition'], as_index=False)['SimilarityMean'].mean()\n",
    "\n",
    "fig, ax = plt.subplots(figsize=(3, 3))\n",
    "ax = sns.pointplot(x=\"Condition\", y=\"SimilarityMean\", hue=\"BirdID\", \n",
    "                   data=data_per_bird, ci=None, order=[\"baseline\", \"BMI\"])\n",
    "\n",
    "ax.spines['right'].set_visible(False), ax.spines['top'].set_visible(False)\n",
    "ax.set_ylabel('Similarity Index')\n",
    "ax.legend(loc='center left', bbox_to_anchor=(1, 0.5))\n",
    "plt.show()"
   ]
  },
  {
   "cell_type": "markdown",
   "metadata": {},
   "source": [
    "## Compare syllable similiarity betweeen contron and BMI conditions"
   ]
  },
  {
   "cell_type": "code",
   "execution_count": 12,
   "metadata": {
    "scrolled": true
   },
   "outputs": [
    {
     "name": "stdout",
     "output_type": "stream",
     "text": [
      "-6.8699728609429265 0.0004687462540579769\n"
     ]
    },
    {
     "data": {
      "image/png": "[encoded data removed]",
      "text/plain": [
       "<Figure size 216x216 with 1 Axes>"
      ]
     },
     "metadata": {
      "needs_background": "light"
     },
     "output_type": "display_data"
    }
   ],
   "source": [
    "## Stat comparison between baseline and BMI\n",
    "fig = plt.figure(figsize=(3,3))\n",
    "\n",
    "data_per_bird.reset_index(inplace = True)\n",
    "data_per_bird\n",
    "\n",
    "ax = sns.pointplot(x=\"Condition\", y=\"SimilarityMean\", hue=\"BirdID\", \n",
    "                   data=data_per_bird, ci=None, order=[\"baseline\", \"BMI\"])\n",
    "\n",
    "ax.spines['right'].set_visible(False), ax.spines['top'].set_visible(False)\n",
    "ax.set_ylabel('Similarity Index')\n",
    "ax.legend(loc='center left', bbox_to_anchor=(1, 0.5))\n",
    "\n",
    "## stats  (paired t-test)\n",
    "baseline, BMI = [],[]\n",
    "data_per_bird.reset_index(inplace=True)\n",
    "baseline = data_per_bird.loc[data_per_bird['Condition']=='BMI']['SimilarityMean']\n",
    "BMI  = data_per_bird.loc[data_per_bird['Condition']=='baseline']['SimilarityMean']\n",
    "tval, pval = stats.ttest_rel(baseline, BMI)\n",
    "\n",
    "dof = len(baseline) + len(BMI) - 1\n",
    "\n",
    "if pval < 0.001:\n",
    "    sig = '***'\n",
    "elif pval < 0.01:\n",
    "    sig = '**'\n",
    "elif pval < 0.05:\n",
    "    sig = '*'\n",
    "else:\n",
    "    sig = 'ns' \n",
    "\n",
    "print(tval, pval)\n",
    "\n",
    "x1, x2 = 0, 1   \n",
    "y, h, col = data_per_bird['SimilarityMean'].max()+0.03, 0.01, 'k'\n",
    "\n",
    "plt.plot([x1, x1, x2, x2], [y, y+h, y+h, y], lw=1.5, c=col)\n",
    "plt.text((x1+x2)*.5, y+h*0.3, sig, ha='center', va='bottom', color=col, size = 15)   \n",
    "\n",
    "plt.xlim([-0.5, 1.5])\n",
    "ax.set_ylim([0.4, 0.9])\n",
    "\n",
    "y_max = 0.9\n",
    "msg = ('P = {:.2e}'.format(Decimal(pval)))\n",
    "plt.text((x1+x2)*.5, y_max*1, msg ,  ha='center', va='bottom', color=col, size = 10)\n",
    "msg = ('t({:.0f})'.format(dof) + ' = {:.2f}'.format(tval) )\n",
    "plt.text((x1+x2)*.5, y_max*1.1, msg ,  ha='center', va='bottom', color=col, size = 10)\n",
    "plt.show()"
   ]
  },
  {
   "cell_type": "code",
   "execution_count": 15,
   "metadata": {},
   "outputs": [
    {
     "data": {
      "text/html": [
       "<div>\n",
       "<style scoped>\n",
       "    .dataframe tbody tr th:only-of-type {\n",
       "        vertical-align: middle;\n",
       "    }\n",
       "\n",
       "    .dataframe tbody tr th {\n",
       "        vertical-align: top;\n",
       "    }\n",
       "\n",
       "    .dataframe thead th {\n",
       "        text-align: right;\n",
       "    }\n",
       "</style>\n",
       "<table border=\"1\" class=\"dataframe\">\n",
       "  <thead>\n",
       "    <tr style=\"text-align: right;\">\n",
       "      <th></th>\n",
       "      <th>BirdID</th>\n",
       "      <th>Condition</th>\n",
       "      <th>SimilarityMean</th>\n",
       "      <th>level_0</th>\n",
       "    </tr>\n",
       "  </thead>\n",
       "  <tbody>\n",
       "    <tr>\n",
       "      <th>0</th>\n",
       "      <td>b86g86</td>\n",
       "      <td>BMI</td>\n",
       "      <td>0.540038</td>\n",
       "      <td>0.0</td>\n",
       "    </tr>\n",
       "    <tr>\n",
       "      <th>1</th>\n",
       "      <td>b86g86</td>\n",
       "      <td>baseline</td>\n",
       "      <td>0.703035</td>\n",
       "      <td>1.0</td>\n",
       "    </tr>\n",
       "    <tr>\n",
       "      <th>14</th>\n",
       "      <td>b86g86</td>\n",
       "      <td>BMI_x</td>\n",
       "      <td>0.562635</td>\n",
       "      <td>NaN</td>\n",
       "    </tr>\n",
       "    <tr>\n",
       "      <th>2</th>\n",
       "      <td>g20r5</td>\n",
       "      <td>BMI</td>\n",
       "      <td>0.661586</td>\n",
       "      <td>2.0</td>\n",
       "    </tr>\n",
       "    <tr>\n",
       "      <th>3</th>\n",
       "      <td>g20r5</td>\n",
       "      <td>baseline</td>\n",
       "      <td>0.742296</td>\n",
       "      <td>3.0</td>\n",
       "    </tr>\n",
       "  </tbody>\n",
       "</table>\n",
       "</div>"
      ],
      "text/plain": [
       "    BirdID Condition  SimilarityMean  level_0\n",
       "0   b86g86       BMI        0.540038      0.0\n",
       "1   b86g86  baseline        0.703035      1.0\n",
       "14  b86g86     BMI_x        0.562635      NaN\n",
       "2    g20r5       BMI        0.661586      2.0\n",
       "3    g20r5  baseline        0.742296      3.0"
      ]
     },
     "execution_count": 15,
     "metadata": {},
     "output_type": "execute_result"
    }
   ],
   "source": [
    "# merge two tables for comparing three conditions \n",
    "# table = pd.merge(data_per_bird, df_mean_x, how=\"left\", left_on='Condition')\n",
    "df_merged = pd.concat([data_per_bird, df_mean_x], ignore_index=True, sort=True).sort_values('BirdID')\n",
    "df_merged.drop(columns = ['index'], inplace=True)\n",
    "df_merged.head()"
   ]
  },
  {
   "cell_type": "code",
   "execution_count": 16,
   "metadata": {},
   "outputs": [
    {
     "data": {
      "text/html": [
       "<div>\n",
       "<style scoped>\n",
       "    .dataframe tbody tr th:only-of-type {\n",
       "        vertical-align: middle;\n",
       "    }\n",
       "\n",
       "    .dataframe tbody tr th {\n",
       "        vertical-align: top;\n",
       "    }\n",
       "\n",
       "    .dataframe thead th {\n",
       "        text-align: right;\n",
       "    }\n",
       "</style>\n",
       "<table border=\"1\" class=\"dataframe\">\n",
       "  <thead>\n",
       "    <tr style=\"text-align: right;\">\n",
       "      <th></th>\n",
       "      <th>BirdID</th>\n",
       "      <th>Condition</th>\n",
       "      <th>SimilarityMean</th>\n",
       "      <th>level_0</th>\n",
       "    </tr>\n",
       "  </thead>\n",
       "  <tbody>\n",
       "    <tr>\n",
       "      <th>0</th>\n",
       "      <td>b86g86</td>\n",
       "      <td>BMI</td>\n",
       "      <td>0.540038</td>\n",
       "      <td>0.0</td>\n",
       "    </tr>\n",
       "    <tr>\n",
       "      <th>14</th>\n",
       "      <td>b86g86</td>\n",
       "      <td>BMI_x</td>\n",
       "      <td>0.562635</td>\n",
       "      <td>NaN</td>\n",
       "    </tr>\n",
       "    <tr>\n",
       "      <th>4</th>\n",
       "      <td>k71o7</td>\n",
       "      <td>BMI</td>\n",
       "      <td>0.502362</td>\n",
       "      <td>4.0</td>\n",
       "    </tr>\n",
       "    <tr>\n",
       "      <th>15</th>\n",
       "      <td>k71o7</td>\n",
       "      <td>BMI_x</td>\n",
       "      <td>0.481081</td>\n",
       "      <td>NaN</td>\n",
       "    </tr>\n",
       "    <tr>\n",
       "      <th>6</th>\n",
       "      <td>k77r57</td>\n",
       "      <td>BMI</td>\n",
       "      <td>0.571526</td>\n",
       "      <td>6.0</td>\n",
       "    </tr>\n",
       "  </tbody>\n",
       "</table>\n",
       "</div>"
      ],
      "text/plain": [
       "    BirdID Condition  SimilarityMean  level_0\n",
       "0   b86g86       BMI        0.540038      0.0\n",
       "14  b86g86     BMI_x        0.562635      NaN\n",
       "4    k71o7       BMI        0.502362      4.0\n",
       "15   k71o7     BMI_x        0.481081      NaN\n",
       "6   k77r57       BMI        0.571526      6.0"
      ]
     },
     "execution_count": 16,
     "metadata": {},
     "output_type": "execute_result"
    }
   ],
   "source": [
    "## Select for birds under BMI\n",
    "df_bmi = df_merged.loc[df_merged['Condition']!= 'baseline']\n",
    "df_bmi = df_bmi[df_bmi.BirdID != 'g20r5']\n",
    "df_bmi = df_bmi[df_bmi.BirdID != 'y58y59']\n",
    "df_bmi.head()"
   ]
  },
  {
   "cell_type": "code",
   "execution_count": 36,
   "metadata": {},
   "outputs": [
    {
     "data": {
      "image/png": "[encoded data removed]",
      "text/plain": [
       "<Figure size 288x216 with 1 Axes>"
      ]
     },
     "metadata": {
      "needs_background": "light"
     },
     "output_type": "display_data"
    }
   ],
   "source": [
    "## Stat comparison between baseline and BMI and X\n",
    "fig = plt.figure(figsize=(4,3))\n",
    "\n",
    "ax = sns.pointplot(x=\"Condition\", y=\"SimilarityMean\", \n",
    "#                    hue=\"BirdID\", \n",
    "                   data=df_merged, ci=None, order=[\"baseline\", \"BMI\",\"BMI_x\"])\n",
    "\n",
    "ax.spines['right'].set_visible(False), ax.spines['top'].set_visible(False)\n",
    "ax.set_ylabel('Similarity Index')\n",
    "\n",
    "## stats  (paired t-test)\n",
    "baseline, BMI = [],[]\n",
    "baseline = data_per_bird.loc[data_per_bird['Condition']=='BMI']['SimilarityMean']\n",
    "BMI  = data_per_bird.loc[data_per_bird['Condition']=='baseline']['SimilarityMean']\n",
    "tval, pval = stats.ttest_rel(baseline, BMI)\n",
    "\n",
    "dof = len(baseline) + len(BMI) - 1\n",
    "\n",
    "if pval < 0.001:\n",
    "    sig = '***'\n",
    "elif pval < 0.01:\n",
    "    sig = '**'\n",
    "elif pval < 0.05:\n",
    "    sig = '*'\n",
    "else:\n",
    "    sig = 'ns' \n",
    "\n",
    "# print(tval, pval)\n",
    "x1, x2 = 0, 1   \n",
    "y, h, col = data_per_bird['SimilarityMean'].max()+0.03, 0.01, 'k'\n",
    "\n",
    "plt.plot([x1, x1, x2, x2], [y, y+h, y+h, y], lw=1.5, c=col)\n",
    "plt.text((x1+x2)*.5, y+h*0.5, sig, ha='center', va='bottom', color=col, size = 15)   \n",
    "\n",
    "plt.xlim([-0.5, 2.5])\n",
    "ax.set_ylim([0.4, 0.8])\n",
    "\n",
    "y_max = 0.85\n",
    "msg = ('P = {:.2e}'.format(Decimal(pval)))\n",
    "plt.text((x1+x2)*.5, y_max*1, msg ,  ha='center', va='bottom', color=col, size = 10)\n",
    "msg = ('t({:.0f})'.format(dof) + ' = {:.2f}'.format(tval) )\n",
    "plt.text((x1+x2)*.5, y_max*1.05, msg ,  ha='center', va='bottom', color=col, size = 10)\n",
    "\n",
    "## stats  (paired t-test betweem BMI and BMI x)\n",
    "BMI, BMI_x = [],[]\n",
    "BMI = df_bmi.loc[df_bmi['Condition']=='BMI']['SimilarityMean']\n",
    "BMI_x  = df_bmi.loc[df_bmi['Condition']=='BMI_x']['SimilarityMean']\n",
    "tval, pval = stats.ttest_rel(BMI, BMI_x)\n",
    "dof = len(BMI) + len(BMI_x) - 1\n",
    "\n",
    "if pval < 0.001:\n",
    "    sig = '***'\n",
    "elif pval < 0.01:\n",
    "    sig = '**'\n",
    "elif pval < 0.05:\n",
    "    sig = '*'\n",
    "else:\n",
    "    sig = 'ns' \n",
    "    \n",
    "x1, x2 = 1, 2  \n",
    "y, h, col = df_bmi['SimilarityMean'].max()+0.1, 0.01, 'k'\n",
    "\n",
    "plt.plot([x1, x1, x2, x2], [y, y+h, y+h, y], lw=1.5, c=col)\n",
    "plt.text((x1+x2)*.5, y+h*1, sig, ha='center', va='bottom', color=col, size = 13)   \n",
    "\n",
    "y_max = 0.75\n",
    "msg = ('P = {:.2e}'.format(Decimal(pval)))\n",
    "plt.text((x1+x2)*.5, y_max*1, msg ,  ha='center', va='bottom', color=col, size = 10)\n",
    "msg = ('t({:.0f})'.format(dof) + ' = {:.2f}'.format(tval) )\n",
    "plt.text((x1+x2)*.5, y_max*1.05, msg ,  ha='center', va='bottom', color=col, size = 10)\n",
    "plt.show()"
   ]
  },
  {
   "cell_type": "code",
   "execution_count": 28,
   "metadata": {},
   "outputs": [
    {
     "data": {
      "text/html": [
       "<div>\n",
       "<style scoped>\n",
       "    .dataframe tbody tr th:only-of-type {\n",
       "        vertical-align: middle;\n",
       "    }\n",
       "\n",
       "    .dataframe tbody tr th {\n",
       "        vertical-align: top;\n",
       "    }\n",
       "\n",
       "    .dataframe thead th {\n",
       "        text-align: right;\n",
       "    }\n",
       "</style>\n",
       "<table border=\"1\" class=\"dataframe\">\n",
       "  <thead>\n",
       "    <tr style=\"text-align: right;\">\n",
       "      <th></th>\n",
       "      <th>BirdID</th>\n",
       "      <th>Note</th>\n",
       "      <th>SimilarityMean(Control)</th>\n",
       "      <th>SimilarityMean(BMI)</th>\n",
       "      <th>Entropy(Control)</th>\n",
       "      <th>Entropy(BMI)</th>\n",
       "    </tr>\n",
       "  </thead>\n",
       "  <tbody>\n",
       "    <tr>\n",
       "      <th>0</th>\n",
       "      <td>g20r5</td>\n",
       "      <td>i</td>\n",
       "      <td>0.817728</td>\n",
       "      <td>0.779380</td>\n",
       "      <td>2.703</td>\n",
       "      <td>2.868</td>\n",
       "    </tr>\n",
       "    <tr>\n",
       "      <th>1</th>\n",
       "      <td>g20r5</td>\n",
       "      <td>a</td>\n",
       "      <td>0.845864</td>\n",
       "      <td>0.611247</td>\n",
       "      <td>2.781</td>\n",
       "      <td>2.951</td>\n",
       "    </tr>\n",
       "    <tr>\n",
       "      <th>2</th>\n",
       "      <td>g20r5</td>\n",
       "      <td>b</td>\n",
       "      <td>0.629694</td>\n",
       "      <td>0.594494</td>\n",
       "      <td>2.920</td>\n",
       "      <td>2.960</td>\n",
       "    </tr>\n",
       "    <tr>\n",
       "      <th>3</th>\n",
       "      <td>g20r5</td>\n",
       "      <td>c</td>\n",
       "      <td>0.688339</td>\n",
       "      <td>0.694868</td>\n",
       "      <td>2.787</td>\n",
       "      <td>2.893</td>\n",
       "    </tr>\n",
       "    <tr>\n",
       "      <th>4</th>\n",
       "      <td>g20r5</td>\n",
       "      <td>d</td>\n",
       "      <td>0.770466</td>\n",
       "      <td>0.685863</td>\n",
       "      <td>2.726</td>\n",
       "      <td>2.890</td>\n",
       "    </tr>\n",
       "    <tr>\n",
       "      <th>5</th>\n",
       "      <td>g20r5</td>\n",
       "      <td>e</td>\n",
       "      <td>0.756962</td>\n",
       "      <td>0.597255</td>\n",
       "      <td>2.650</td>\n",
       "      <td>2.890</td>\n",
       "    </tr>\n",
       "    <tr>\n",
       "      <th>6</th>\n",
       "      <td>g20r5</td>\n",
       "      <td>m</td>\n",
       "      <td>0.697075</td>\n",
       "      <td>0.617144</td>\n",
       "      <td>2.779</td>\n",
       "      <td>2.924</td>\n",
       "    </tr>\n",
       "    <tr>\n",
       "      <th>7</th>\n",
       "      <td>g20r5</td>\n",
       "      <td>z</td>\n",
       "      <td>0.732239</td>\n",
       "      <td>0.712436</td>\n",
       "      <td>2.773</td>\n",
       "      <td>2.923</td>\n",
       "    </tr>\n",
       "    <tr>\n",
       "      <th>8</th>\n",
       "      <td>y58y59</td>\n",
       "      <td>i</td>\n",
       "      <td>0.668479</td>\n",
       "      <td>0.636303</td>\n",
       "      <td>2.740</td>\n",
       "      <td>2.687</td>\n",
       "    </tr>\n",
       "    <tr>\n",
       "      <th>9</th>\n",
       "      <td>y58y59</td>\n",
       "      <td>a</td>\n",
       "      <td>0.698525</td>\n",
       "      <td>0.719448</td>\n",
       "      <td>2.722</td>\n",
       "      <td>2.664</td>\n",
       "    </tr>\n",
       "  </tbody>\n",
       "</table>\n",
       "</div>"
      ],
      "text/plain": [
       "   BirdID Note  SimilarityMean(Control)  SimilarityMean(BMI)  \\\n",
       "0   g20r5    i                 0.817728             0.779380   \n",
       "1   g20r5    a                 0.845864             0.611247   \n",
       "2   g20r5    b                 0.629694             0.594494   \n",
       "3   g20r5    c                 0.688339             0.694868   \n",
       "4   g20r5    d                 0.770466             0.685863   \n",
       "5   g20r5    e                 0.756962             0.597255   \n",
       "6   g20r5    m                 0.697075             0.617144   \n",
       "7   g20r5    z                 0.732239             0.712436   \n",
       "8  y58y59    i                 0.668479             0.636303   \n",
       "9  y58y59    a                 0.698525             0.719448   \n",
       "\n",
       "   Entropy(Control)  Entropy(BMI)  \n",
       "0             2.703         2.868  \n",
       "1             2.781         2.951  \n",
       "2             2.920         2.960  \n",
       "3             2.787         2.893  \n",
       "4             2.726         2.890  \n",
       "5             2.650         2.890  \n",
       "6             2.779         2.924  \n",
       "7             2.773         2.923  \n",
       "8             2.740         2.687  \n",
       "9             2.722         2.664  "
      ]
     },
     "execution_count": 28,
     "metadata": {},
     "output_type": "execute_result"
    }
   ],
   "source": [
    "## Create a new dataframe for paired comparisons\n",
    "# columns = ['BirdID', 'Note', 'SimilarityMean(Control)' , 'SimilarityMean(BMI)', 'Entropy(Control)', 'Entropy(BMI)']\n",
    "# df_new = pd.DataFrame(columns =columns)\n",
    "df_new = pd.DataFrame()\n",
    "\n",
    "row_ind = 0\n",
    "for bird in bird_list:\n",
    "    temp_df_bird = []\n",
    "    temp_df_bird = df[df['BirdID'] == bird]\n",
    "    note_list = temp_df_bird['Note'].unique()\n",
    "    \n",
    "    for note in note_list:\n",
    "        temp_df_note = temp_df_bird[temp_df_bird['Note'] == note]\n",
    "        temp_df_new = [] \n",
    "        temp_df_new = pd.DataFrame({'BirdID' : temp_df_note['BirdID'].unique(),\n",
    "                                'Note' : temp_df_note['Note'].unique(),  \n",
    "                                'SimilarityMean(Control)' : temp_df_note[temp_df_note['Condition']=='baseline']['SimilarityMean'].to_numpy(),\n",
    "                                'SimilarityMean(BMI)' : temp_df_note[temp_df_note['Condition']=='BMI']['SimilarityMean'].to_numpy(),\n",
    "                                'Entropy(Control)' :  temp_df_note[temp_df_note['Condition']=='baseline']['Entropy'].to_numpy(),\n",
    "                                'Entropy(BMI)' : temp_df_note[temp_df_note['Condition']=='BMI']['Entropy'].to_numpy(),                                    \n",
    "                                })\n",
    "        df_new = df_new.append(temp_df_new, ignore_index=True)\n",
    "        \n",
    "# data_path = Path('H:\\Box\\Data\\BMI\\Results')\n",
    "# outputfile = data_path / 'SimilarityMeanPaired.csv'\n",
    "# df_new.to_csv(outputfile, header=True)\n",
    "df_new.head(10)"
   ]
  },
  {
   "cell_type": "code",
   "execution_count": 29,
   "metadata": {},
   "outputs": [
    {
     "data": {
      "text/plain": [
       "2.798058823529411"
      ]
     },
     "execution_count": 29,
     "metadata": {},
     "output_type": "execute_result"
    }
   ],
   "source": [
    "df_new['SimilarityMean(Control)'].mean()\n",
    "df_new['SimilarityMean(BMI)'].mean()\n",
    "df_new['Entropy(Control)'].mean()\n",
    "df_new['Entropy(BMI)'].mean()"
   ]
  },
  {
   "cell_type": "code",
   "execution_count": 30,
   "metadata": {},
   "outputs": [
    {
     "data": {
      "text/html": [
       "<div>\n",
       "<style scoped>\n",
       "    .dataframe tbody tr th:only-of-type {\n",
       "        vertical-align: middle;\n",
       "    }\n",
       "\n",
       "    .dataframe tbody tr th {\n",
       "        vertical-align: top;\n",
       "    }\n",
       "\n",
       "    .dataframe thead th {\n",
       "        text-align: right;\n",
       "    }\n",
       "</style>\n",
       "<table border=\"1\" class=\"dataframe\">\n",
       "  <thead>\n",
       "    <tr style=\"text-align: right;\">\n",
       "      <th></th>\n",
       "      <th>BirdID</th>\n",
       "      <th>Condition</th>\n",
       "      <th>SimilarityMean</th>\n",
       "      <th>level_0</th>\n",
       "    </tr>\n",
       "  </thead>\n",
       "  <tbody>\n",
       "    <tr>\n",
       "      <th>14</th>\n",
       "      <td>b86g86</td>\n",
       "      <td>BMI_x</td>\n",
       "      <td>0.562635</td>\n",
       "      <td>NaN</td>\n",
       "    </tr>\n",
       "    <tr>\n",
       "      <th>15</th>\n",
       "      <td>k71o7</td>\n",
       "      <td>BMI_x</td>\n",
       "      <td>0.481081</td>\n",
       "      <td>NaN</td>\n",
       "    </tr>\n",
       "    <tr>\n",
       "      <th>16</th>\n",
       "      <td>k77r57</td>\n",
       "      <td>BMI_x</td>\n",
       "      <td>0.431825</td>\n",
       "      <td>NaN</td>\n",
       "    </tr>\n",
       "    <tr>\n",
       "      <th>17</th>\n",
       "      <td>o54w8</td>\n",
       "      <td>BMI_x</td>\n",
       "      <td>0.579386</td>\n",
       "      <td>NaN</td>\n",
       "    </tr>\n",
       "    <tr>\n",
       "      <th>18</th>\n",
       "      <td>y3y18</td>\n",
       "      <td>BMI_x</td>\n",
       "      <td>0.451288</td>\n",
       "      <td>NaN</td>\n",
       "    </tr>\n",
       "  </tbody>\n",
       "</table>\n",
       "</div>"
      ],
      "text/plain": [
       "    BirdID Condition  SimilarityMean  level_0\n",
       "14  b86g86     BMI_x        0.562635      NaN\n",
       "15   k71o7     BMI_x        0.481081      NaN\n",
       "16  k77r57     BMI_x        0.431825      NaN\n",
       "17   o54w8     BMI_x        0.579386      NaN\n",
       "18   y3y18     BMI_x        0.451288      NaN"
      ]
     },
     "execution_count": 30,
     "metadata": {},
     "output_type": "execute_result"
    }
   ],
   "source": [
    "df_bmi_x = df_bmi[df_bmi['Condition']=='BMI_x']\n",
    "df_bmi_x"
   ]
  },
  {
   "cell_type": "markdown",
   "metadata": {},
   "source": [
    "## Control syllables vs. BMI vs. unidentifiable syllables"
   ]
  },
  {
   "cell_type": "code",
   "execution_count": 34,
   "metadata": {},
   "outputs": [
    {
     "data": {
      "image/png": "[encoded data removed]",
      "text/plain": [
       "<Figure size 288x288 with 1 Axes>"
      ]
     },
     "metadata": {
      "needs_background": "light"
     },
     "output_type": "display_data"
    }
   ],
   "source": [
    "# plot the scatter\n",
    "dot_size = 80\n",
    "bar_width = 0.5\n",
    "width = 0.3\n",
    "np.random.seed(5)  # random jitter for x\n",
    "alpha = 0.1\n",
    "bar_line_width=2\n",
    "\n",
    "fig = plt.figure(figsize=(4,4))\n",
    "\n",
    "# plotting the lines\n",
    "for cluster in range(len(df_new['SimilarityMean(Control)'])):\n",
    "    ax = plt.plot([0,1], [df_new['SimilarityMean(Control)'][cluster], df_new['SimilarityMean(BMI)'][cluster]],\n",
    "             'k-', linewidth = 0.5, zorder=1)\n",
    "\n",
    "# scatter\n",
    "ax = sns.scatterplot(np.zeros(len(df_new['SimilarityMean(Control)'])), df_new['SimilarityMean(Control)'], \n",
    "#                      hue= df_new['BirdID'], \n",
    "                     s= dot_size, \n",
    "                     color='k',\n",
    "                     legend = 'full', ec=\"k\", fc=\"w\", zorder=2)\n",
    "\n",
    "ax = sns.scatterplot(np.ones(len(df_new['SimilarityMean(BMI)'])),df_new['SimilarityMean(BMI)'], \n",
    "#                       hue= df_new['BirdID'], \n",
    "                      color='k',\n",
    "                     s= dot_size, ec=\"k\", fc=\"w\", zorder=2)\n",
    "\n",
    "# bar plot\n",
    "ax.bar(0, df_new['SimilarityMean(Control)'].mean(), yerr=df_new['SimilarityMean(Control)'].sem(), \n",
    "       width=bar_width, fill=None, linewidth=bar_line_width, zorder=3)\n",
    "\n",
    "ax.bar(1, df_new['SimilarityMean(BMI)'].mean(), yerr=df_new['SimilarityMean(BMI)'].sem(), \n",
    "       width=bar_width, fill=None, linewidth=bar_line_width, zorder=3)\n",
    "\n",
    "ax.bar(2, df_bmi_x['SimilarityMean'].mean(), yerr=df_bmi_x['SimilarityMean'].sem(), \n",
    "       width=bar_width, fill=None, linewidth=bar_line_width, zorder=3)\n",
    "\n",
    "# Scatter for x\n",
    "x = np.ones(df_bmi_x['SimilarityMean'].shape[0])*2 + (np.random.rand(df_bmi_x['SimilarityMean'].shape[0])*width-width/2.)\n",
    "ax.scatter(x, df_bmi_x['SimilarityMean'], color='k', s=70,\n",
    "          facecolors='none', edgecolors='k')    \n",
    "\n",
    "plt.xticks([0,1,2], ['Control', 'BMI', 'BMI(x)'])\n",
    "ax.spines['right'].set_visible(False),ax.spines['top'].set_visible(False)\n",
    "plt.ylim(0.3, 0.9)\n",
    "plt.xlim(-0.5, 2.5)\n",
    "plt.ylabel('Similarity Index')\n",
    "plt.show()"
   ]
  }
 ],
 "metadata": {
  "kernelspec": {
   "display_name": "Python 3",
   "language": "python",
   "name": "python3"
  },
  "language_info": {
   "codemirror_mode": {
    "name": "ipython",
    "version": 3
   },
   "file_extension": ".py",
   "mimetype": "text/x-python",
   "name": "python",
   "nbconvert_exporter": "python",
   "pygments_lexer": "ipython3",
   "version": "3.8.8"
  }
 },
 "nbformat": 4,
 "nbformat_minor": 4
}
